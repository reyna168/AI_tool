{
 "cells": [
  {
   "cell_type": "code",
   "execution_count": 18,
   "metadata": {},
   "outputs": [],
   "source": [
    "from agent import graph\n",
    "\n",
    "state = graph.invoke({\"messages\": [{\"role\": \"user\", \"content\": \"2025中華民國總統是誰\"}], \"max_research_loops\": 3, \"initial_search_query_count\": 3})"
   ]
  },
  {
   "cell_type": "code",
   "execution_count": 19,
   "metadata": {},
   "outputs": [
    {
     "data": {
      "text/plain": [
       "{'messages': [HumanMessage(content='2025中華民國總統是誰', additional_kwargs={}, response_metadata={}, id='02ceeb64-ed07-4cbd-9c61-bb9d137d33a2'),\n",
       "  AIMessage(content='截至2025年8月18日，中華民國（台灣）的總統是賴清德（Lai Ching-te）[wikipedia](https://vertexaisearch.cloud.google.com/grounding-api-redirect/AUZIYQEZ6n7nV5Jl_ohtBH0tO30oPWTCgRgaBikkUOF9rNnbJh9M4GG5f4t2zlSOVfVf97kHuaxHFf68FO9_sAwFK_cTJ71XUugj0J8zMsV6wyjDim_BwjrAX0uTvbnMmOVny7ytZ3RSNQ==) [taiwantoday](https://vertexaisearch.cloud.google.com/grounding-api-redirect/AUZIYQEYFwcpEdXNG5c3rk5v_v3_1bLbY6NWhfJmELtkg9cAuA8s_Dhxt8HeuG2YROFScJwbf19--AReIYwAKeB_sums87rSZBye5AqCkSisfTwFUi7SG087wjCtFbEyOB3vuFGXnbu72XgOOJC8Xt11HPZQFXFQs0DyTlE01enVfsyuF3ws_KSlWl8JywYIrgFJ5pIdOEJcmg984imReJDq6rTgtw==)。\\n\\n賴清德隸屬民主進步黨（DPP），他於2024年1月13日的總統選舉中勝出，並在同年5月20日與副總統蕭美琴（Hsiao Bi-khim）一同宣誓就職 [roc-taiwan](https://vertexaisearch.cloud.google.com/grounding-api-redirect/AUZIYQGSj63sUBHl8Ng1j_-sWkh91P5RDuOOTDPb0pm8OYzlpNsUskXPzhKd2fFrgRl_CaGlLMixNSUcrx2uvu7xziXDSmYfCLNQXG-kN8Jhc0sGF_91cmFqw1-knhm-nDCB-1H6otqQwD9J94D0) [theguardian](https://vertexaisearch.cloud.google.com/grounding-api-redirect/AUZIYQGu0yM7QnEtIHWiImF72ugg6nb97BUf9yivvvppfPVFkhhkG_gzJ2bjoG-gHmOaQZPgwBDqSH1PKFdI12GL0bwTXzjnqKMJJYmXotjb-rXM-vWYeQXJWBZvDR67Gzns4Ahjo2DzIDPU99R4g1gXtOr80onEBjDtzI4nLZNHvu1-MbtE1X-Yhtx2BiENAk3bcw6NA7nuUWxOX2jzLR-s9VJLuEMY8sE=) [wikipedia](https://vertexaisearch.cloud.google.com/grounding-api-redirect/AUZIYQGp7E_CQ2-K1XFqTyRevHlcncFgkXvWue7zwOcU3Gzqs1Ek6BXbqWfGPgtTTK_RTI7gSEjW4ltNKEyR60ynooA2DUgG4pPCX_8xNbf1Zv2vIdRmtIWmlV0_of3gU1qHb1zImkM0i7_2lCPXLAwF_DnlNJidQxsECYzs9qx9Yg==)。\\n\\n**2024年總統選舉結果摘要：**\\n*   **賴清德（民主進步黨）：** 獲得559萬張選票，得票率為40.05% [roc-taiwan](https://vertexaisearch.cloud.google.com/grounding-api-redirect/AUZIYQGSj63sUBHl8Ng1j_-sWkh91P5RDuOOTDPb0pm8OYzlpNsUskXPzhKd2fFrgRl_CaGlLMixNSUcrx2uvu7xziXDSmYfCLNQXG-kN8Jhc0sGF_91cmFqw1-knhm-nDCB-1H6otqQwD9J94D0)。\\n*   **侯友宜（中國國民黨）：** 得票率為33.49% [globaltaiwan](https://vertexaisearch.cloud.google.com/grounding-api-redirect/AUZIYQHV489qN1XbIcOjuqc6qOV1cWZQZGcIuAiKMmPerG6bj79iYQHiP-l9oUns1_QKQ7jkvRAPnEKSt9L6A09-8Zw2XrSHU9aOyZ_mqrYPJZSGnuOAbF56SuXzBb4KwwVAcW79wCPCow_B4LbuLAkF) [roc-taiwan](https://vertexaisearch.cloud.google.com/grounding-api-redirect/AUZIYQGSj63sUBHl8Ng1j_-sWkh91P5RDuOOTDPb0pm8OYzlpNsUskXPzhKd2fFrgRl_CaGlLMixNSUcrx2uvu7xziXDSmYfCLNQXG-kN8Jhc0sGF_91cmFqw1-knhm-nDCB-1H6otqQwD9J94D0)。\\n*   **柯文哲（台灣民眾黨）：** 得票率為26.46% [globaltaiwan](https://vertexaisearch.cloud.google.com/grounding-api-redirect/AUZIYQHV489qN1XbIcOjuqc6qOV1cWZQZGcIuAiKMmPerG6bj79iYQHiP-l9oUns1_QKQ7jkvRAPnEKSt9L6A09-8Zw2XrSHU9aOyZ_mqrYPJZSGnuOAbF56SuXzBb4KwwVAcW79wCPCow_B4LbuLAkF) [roc-taiwan](https://vertexaisearch.cloud.google.com/grounding-api-redirect/AUZIYQGSj63sUBHl8Ng1j_-sWkh91P5RDuOOTDPb0pm8OYzlpNsUskXPzhKd2fFrgRl_CaGlLMixNSUcrx2uvu7xziXDSmYfCLNQXG-kN8Jhc0sGF_91cmFqw1-knhm-nDCB-1H6otqQwD9J94D0)。\\n\\n雖然賴清德贏得總統大位，但民進黨在立法院並未取得過半席次，在113席中僅佔51席，而國民黨則有52席 [globaltaiwan](https://vertexaisearch.cloud.google.com/grounding-api-redirect/AUZIYQHV489qN1XbIcOjuqc6qOV1cWZQZGcIuAiKMmPerG6bj79iYQHiP-l9oUns1_QKQ7jkvRAPnEKSt9L6A09-8Zw2XrSHU9aOyZ_mqrYPJZSGnuOAbF56SuXzBb4KwwVAcW79wCPCow_B4LbuLAkF) [brookings](https://vertexaisearch.cloud.google.com/grounding-api-redirect/AUZIYQEsSrxF6RWROWlaY7427mmXFcp7TzoQ0K6-VoMyE4Dx2v6JMefF9nHGhCJ06abIMGu4m7KByFRvnYxQsXu6oDTylhr4ghMPyhl-5z9CnQNC-MT6wQMRtlCHigYfALTDSs06D1tMw9o2QMD3eTg0POVO6nlGH-Ylm_mnE7Rm8a2jS63cBlQFzs9eAZUb_Q6Ij1KV) [wikipedia](https://vertexaisearch.cloud.google.com/grounding-api-redirect/AUZIYQFn4G_AsV3j0XIsqbvTV3FHofLzsykq8q7KIrXsTgub4hnAhFhOJIZnx_ul7KeTXK2LQj08Txxz5zZj9tym1xfxzvaMK2q-_wjU7dembvB3jLwVkz_UxMqzSRbZ0siMWEprTYEgLrCnFs9cwwm8k2mHVNZWaLkJoto=)。這形成了一個分裂的政府，為其施政帶來挑戰 [brookings](https://vertexaisearch.cloud.google.com/grounding-api-redirect/AUZIYQEsSrxF6RWROWlaY7427mmXFcp7TzoQ0K6-VoMyE4Dx2v6JMefF9nHGhCJ06abIMGu4m7KByFRvnYxQsXu6oDTylhr4ghMPyhl-5z9CnQNC-MT6wQMRtlCHigYfALTDSs06D1tMw9o2QMD3eTg0POVO6nlGH-Ylm_mnE7Rm8a2jS63cBlQFzs9eAZUb_Q6Ij1KV) [aljazeera](https://vertexaisearch.cloud.google.com/grounding-api-redirect/AUZIYQGO7erl5G1xB9dUuxc6DjAvtobvcaUxsqA1A2Bmb673xa_Mb6zRJ041dqDyhc-jLVpNSc0n130yCPAeiq1fBh3T7ybXzj-5odiyFQh9xVzkNnDx9UarXyVNT3l6tSBwGmBlO0RkKp8g3Eh6fVKq_63w75Zy-mwwHnjOjKlFH87t6c_Ro1od4KgkhwCzopu12TTQFGfwwpBC_HJ2h1Me-hAlnf-Gc-Jm)。', additional_kwargs={}, response_metadata={}, id='f8fff584-711b-476c-93c7-05f7f4f81e9f')],\n",
       " 'search_query': ['2025 Taiwan presidential election results',\n",
       "  'Who is the president of Taiwan in 2025',\n",
       "  '2025 Taiwan presidential election results',\n",
       "  'Who is the president of Taiwan in 2025'],\n",
       " 'web_research_result': ['Okay, I will conduct Google Searches to gather the most recent, credible information on the \"2025 Taiwan presidential election results\" and synthesize it into a verifiable text artifact.\\n\\nAs of August 18, 2025, Lai Ching-te of the Democratic Progressive Party (DPP) won the Taiwan presidential election on January 13, 2024 [wikipedia](https://vertexaisearch.cloud.google.com/id/0-0) [roc-taiwan](https://vertexaisearch.cloud.google.com/id/0-1) [thehindu](https://vertexaisearch.cloud.google.com/id/0-2) [theguardian](https://vertexaisearch.cloud.google.com/id/0-3). He secured 5.59 million votes, which is 40.05 percent of the total votes cast [roc-taiwan](https://vertexaisearch.cloud.google.com/id/0-1). Lai\\'s running mate, Hsiao Bi-khim, was also elected as Vice President [roc-taiwan](https://vertexaisearch.cloud.google.com/id/0-1) [wikipedia](https://vertexaisearch.cloud.google.com/id/0-0). They were sworn in on May 20, 2024 [roc-taiwan](https://vertexaisearch.cloud.google.com/id/0-1).\\n\\nThe voter turnout for the 2024 election was 71.86 percent [wikipedia](https://vertexaisearch.cloud.google.com/id/0-0) [roc-taiwan](https://vertexaisearch.cloud.google.com/id/0-1). The opposition Kuomintang (KMT) nominated Hou Yu-ih, who received 33.49 percent of the vote [globaltaiwan](https://vertexaisearch.cloud.google.com/id/0-4) [wikipedia](https://vertexaisearch.cloud.google.com/id/0-0) [roc-taiwan](https://vertexaisearch.cloud.google.com/id/0-1). Ko Wen-je of the Taiwan People\\'s Party (TPP) received 26.46 percent of the vote [globaltaiwan](https://vertexaisearch.cloud.google.com/id/0-4) [wikipedia](https://vertexaisearch.cloud.google.com/id/0-0) [roc-taiwan](https://vertexaisearch.cloud.google.com/id/0-1).\\n\\nWhile Lai Ching-te won the presidential election, the DPP lost its majority in the Legislative Yuan [globaltaiwan](https://vertexaisearch.cloud.google.com/id/0-4) [aljazeera](https://vertexaisearch.cloud.google.com/id/0-5). In the 113-seat legislature, the DPP holds 51 seats, the KMT holds 52, and the TPP holds 8, making the TPP a potential \"kingmaker\" [globaltaiwan](https://vertexaisearch.cloud.google.com/id/0-4) [brookings](https://vertexaisearch.cloud.google.com/id/0-6) [wikipedia](https://vertexaisearch.cloud.google.com/id/0-7). This divided government presents challenges for President Lai [brookings](https://vertexaisearch.cloud.google.com/id/0-6) [aljazeera](https://vertexaisearch.cloud.google.com/id/0-5) [globaltaiwan](https://vertexaisearch.cloud.google.com/id/0-8).\\n\\nIn July 2025, recall votes against 24 KMT lawmakers were rejected, which was a setback for the DPP\\'s hopes of gaining control of the parliament [aljazeera](https://vertexaisearch.cloud.google.com/id/0-5).\\n',\n",
       "  \"As of August 18, 2025, Lai Ching-te, also known as William Lai, is the President of Taiwan (Republic of China) [wikipedia](https://vertexaisearch.cloud.google.com/id/1-0) [taiwantoday](https://vertexaisearch.cloud.google.com/id/1-1). He was elected on January 13, 2024, and inaugurated on May 20, 2024 [wikipedia](https://vertexaisearch.cloud.google.com/id/1-2) [roc-taiwan](https://vertexaisearch.cloud.google.com/id/1-3) [wikipedia](https://vertexaisearch.cloud.google.com/id/1-0). Therefore, he is serving his term as president in 2025 [roc-taiwan](https://vertexaisearch.cloud.google.com/id/1-3) [wikipedia](https://vertexaisearch.cloud.google.com/id/1-0).\\n\\nLai Ching-te, a member of the Democratic Progressive Party (DPP), won the 2024 presidential election with approximately 40% of the vote [wikipedia](https://vertexaisearch.cloud.google.com/id/1-2) [wikipedia](https://vertexaisearch.cloud.google.com/id/1-0). He ran with Hsiao Bi-khim as his running mate [wikipedia](https://vertexaisearch.cloud.google.com/id/1-2). He succeeded Tsai Ing-wen, who was ineligible for re-election due to term limits [wikipedia](https://vertexaisearch.cloud.google.com/id/1-2).\\n\\nIn his inauguration speech, Lai Ching-te addressed cross-strait relations, stating that the ROC (Republic of China) and the PRC (People's Republic of China) are not subordinate to each other [wikipedia](https://vertexaisearch.cloud.google.com/id/1-0). He has also expressed a desire for peace and cooperation with China, asking them to cease their hostility [thehindu](https://vertexaisearch.cloud.google.com/id/1-4) [youtube](https://vertexaisearch.cloud.google.com/id/1-5).\\n\\nLai Ching-te faces several challenges as president in 2025, including a divided domestic political environment, increasing pressure from China, and an uncertain international environment [brookings](https://vertexaisearch.cloud.google.com/id/1-6).\\n\"],\n",
       " 'sources_gathered': [{'label': 'wikipedia',\n",
       "   'short_url': 'https://vertexaisearch.cloud.google.com/id/0-0',\n",
       "   'value': 'https://vertexaisearch.cloud.google.com/grounding-api-redirect/AUZIYQGp7E_CQ2-K1XFqTyRevHlcncFgkXvWue7zwOcU3Gzqs1Ek6BXbqWfGPgtTTK_RTI7gSEjW4ltNKEyR60ynooA2DUgG4pPCX_8xNbf1Zv2vIdRmtIWmlV0_of3gU1qHb1zImkM0i7_2lCPXLAwF_DnlNJidQxsECYzs9qx9Yg=='},\n",
       "  {'label': 'roc-taiwan',\n",
       "   'short_url': 'https://vertexaisearch.cloud.google.com/id/0-1',\n",
       "   'value': 'https://vertexaisearch.cloud.google.com/grounding-api-redirect/AUZIYQGSj63sUBHl8Ng1j_-sWkh91P5RDuOOTDPb0pm8OYzlpNsUskXPzhKd2fFrgRl_CaGlLMixNSUcrx2uvu7xziXDSmYfCLNQXG-kN8Jhc0sGF_91cmFqw1-knhm-nDCB-1H6otqQwD9J94D0'},\n",
       "  {'label': 'thehindu',\n",
       "   'short_url': 'https://vertexaisearch.cloud.google.com/id/0-2',\n",
       "   'value': 'https://vertexaisearch.cloud.google.com/grounding-api-redirect/AUZIYQExTkW0yNSfqNZD92fH0QQTYgs0Go3sqncGtpIiEOfdO4YLv9Y6v-nmHov7W9xzExr2nFudwKCfIfGc49rtLiXD36EN6ncOCWMBuFCX_8ODz_HMvIPmAgiw9IEDzVGK7cvRbCbO32a-q2cVMbQuFGzoKUgiPiaSJhhcRDVH7GppMMELXgo-nd0k_8KJTrLkajWoojOTSMpOvrd2oKUqJkXDPW1IhqqcthBAHyKW9v_ZaCJZzA=='},\n",
       "  {'label': 'theguardian',\n",
       "   'short_url': 'https://vertexaisearch.cloud.google.com/id/0-3',\n",
       "   'value': 'https://vertexaisearch.cloud.google.com/grounding-api-redirect/AUZIYQGu0yM7QnEtIHWiImF72ugg6nb97BUf9yivvvppfPVFkhhkG_gzJ2bjoG-gHmOaQZPgwBDqSH1PKFdI12GL0bwTXzjnqKMJJYmXotjb-rXM-vWYeQXJWBZvDR67Gzns4Ahjo2DzIDPU99R4g1gXtOr80onEBjDtzI4nLZNHvu1-MbtE1X-Yhtx2BiENAk3bcw6NA7nuUWxOX2jzLR-s9VJLuEMY8sE='},\n",
       "  {'label': 'roc-taiwan',\n",
       "   'short_url': 'https://vertexaisearch.cloud.google.com/id/0-1',\n",
       "   'value': 'https://vertexaisearch.cloud.google.com/grounding-api-redirect/AUZIYQGSj63sUBHl8Ng1j_-sWkh91P5RDuOOTDPb0pm8OYzlpNsUskXPzhKd2fFrgRl_CaGlLMixNSUcrx2uvu7xziXDSmYfCLNQXG-kN8Jhc0sGF_91cmFqw1-knhm-nDCB-1H6otqQwD9J94D0'},\n",
       "  {'label': 'roc-taiwan',\n",
       "   'short_url': 'https://vertexaisearch.cloud.google.com/id/0-1',\n",
       "   'value': 'https://vertexaisearch.cloud.google.com/grounding-api-redirect/AUZIYQGSj63sUBHl8Ng1j_-sWkh91P5RDuOOTDPb0pm8OYzlpNsUskXPzhKd2fFrgRl_CaGlLMixNSUcrx2uvu7xziXDSmYfCLNQXG-kN8Jhc0sGF_91cmFqw1-knhm-nDCB-1H6otqQwD9J94D0'},\n",
       "  {'label': 'wikipedia',\n",
       "   'short_url': 'https://vertexaisearch.cloud.google.com/id/0-0',\n",
       "   'value': 'https://vertexaisearch.cloud.google.com/grounding-api-redirect/AUZIYQGp7E_CQ2-K1XFqTyRevHlcncFgkXvWue7zwOcU3Gzqs1Ek6BXbqWfGPgtTTK_RTI7gSEjW4ltNKEyR60ynooA2DUgG4pPCX_8xNbf1Zv2vIdRmtIWmlV0_of3gU1qHb1zImkM0i7_2lCPXLAwF_DnlNJidQxsECYzs9qx9Yg=='},\n",
       "  {'label': 'roc-taiwan',\n",
       "   'short_url': 'https://vertexaisearch.cloud.google.com/id/0-1',\n",
       "   'value': 'https://vertexaisearch.cloud.google.com/grounding-api-redirect/AUZIYQGSj63sUBHl8Ng1j_-sWkh91P5RDuOOTDPb0pm8OYzlpNsUskXPzhKd2fFrgRl_CaGlLMixNSUcrx2uvu7xziXDSmYfCLNQXG-kN8Jhc0sGF_91cmFqw1-knhm-nDCB-1H6otqQwD9J94D0'},\n",
       "  {'label': 'wikipedia',\n",
       "   'short_url': 'https://vertexaisearch.cloud.google.com/id/0-0',\n",
       "   'value': 'https://vertexaisearch.cloud.google.com/grounding-api-redirect/AUZIYQGp7E_CQ2-K1XFqTyRevHlcncFgkXvWue7zwOcU3Gzqs1Ek6BXbqWfGPgtTTK_RTI7gSEjW4ltNKEyR60ynooA2DUgG4pPCX_8xNbf1Zv2vIdRmtIWmlV0_of3gU1qHb1zImkM0i7_2lCPXLAwF_DnlNJidQxsECYzs9qx9Yg=='},\n",
       "  {'label': 'roc-taiwan',\n",
       "   'short_url': 'https://vertexaisearch.cloud.google.com/id/0-1',\n",
       "   'value': 'https://vertexaisearch.cloud.google.com/grounding-api-redirect/AUZIYQGSj63sUBHl8Ng1j_-sWkh91P5RDuOOTDPb0pm8OYzlpNsUskXPzhKd2fFrgRl_CaGlLMixNSUcrx2uvu7xziXDSmYfCLNQXG-kN8Jhc0sGF_91cmFqw1-knhm-nDCB-1H6otqQwD9J94D0'},\n",
       "  {'label': 'globaltaiwan',\n",
       "   'short_url': 'https://vertexaisearch.cloud.google.com/id/0-4',\n",
       "   'value': 'https://vertexaisearch.cloud.google.com/grounding-api-redirect/AUZIYQHV489qN1XbIcOjuqc6qOV1cWZQZGcIuAiKMmPerG6bj79iYQHiP-l9oUns1_QKQ7jkvRAPnEKSt9L6A09-8Zw2XrSHU9aOyZ_mqrYPJZSGnuOAbF56SuXzBb4KwwVAcW79wCPCow_B4LbuLAkF'},\n",
       "  {'label': 'wikipedia',\n",
       "   'short_url': 'https://vertexaisearch.cloud.google.com/id/0-0',\n",
       "   'value': 'https://vertexaisearch.cloud.google.com/grounding-api-redirect/AUZIYQGp7E_CQ2-K1XFqTyRevHlcncFgkXvWue7zwOcU3Gzqs1Ek6BXbqWfGPgtTTK_RTI7gSEjW4ltNKEyR60ynooA2DUgG4pPCX_8xNbf1Zv2vIdRmtIWmlV0_of3gU1qHb1zImkM0i7_2lCPXLAwF_DnlNJidQxsECYzs9qx9Yg=='},\n",
       "  {'label': 'roc-taiwan',\n",
       "   'short_url': 'https://vertexaisearch.cloud.google.com/id/0-1',\n",
       "   'value': 'https://vertexaisearch.cloud.google.com/grounding-api-redirect/AUZIYQGSj63sUBHl8Ng1j_-sWkh91P5RDuOOTDPb0pm8OYzlpNsUskXPzhKd2fFrgRl_CaGlLMixNSUcrx2uvu7xziXDSmYfCLNQXG-kN8Jhc0sGF_91cmFqw1-knhm-nDCB-1H6otqQwD9J94D0'},\n",
       "  {'label': 'globaltaiwan',\n",
       "   'short_url': 'https://vertexaisearch.cloud.google.com/id/0-4',\n",
       "   'value': 'https://vertexaisearch.cloud.google.com/grounding-api-redirect/AUZIYQHV489qN1XbIcOjuqc6qOV1cWZQZGcIuAiKMmPerG6bj79iYQHiP-l9oUns1_QKQ7jkvRAPnEKSt9L6A09-8Zw2XrSHU9aOyZ_mqrYPJZSGnuOAbF56SuXzBb4KwwVAcW79wCPCow_B4LbuLAkF'},\n",
       "  {'label': 'wikipedia',\n",
       "   'short_url': 'https://vertexaisearch.cloud.google.com/id/0-0',\n",
       "   'value': 'https://vertexaisearch.cloud.google.com/grounding-api-redirect/AUZIYQGp7E_CQ2-K1XFqTyRevHlcncFgkXvWue7zwOcU3Gzqs1Ek6BXbqWfGPgtTTK_RTI7gSEjW4ltNKEyR60ynooA2DUgG4pPCX_8xNbf1Zv2vIdRmtIWmlV0_of3gU1qHb1zImkM0i7_2lCPXLAwF_DnlNJidQxsECYzs9qx9Yg=='},\n",
       "  {'label': 'roc-taiwan',\n",
       "   'short_url': 'https://vertexaisearch.cloud.google.com/id/0-1',\n",
       "   'value': 'https://vertexaisearch.cloud.google.com/grounding-api-redirect/AUZIYQGSj63sUBHl8Ng1j_-sWkh91P5RDuOOTDPb0pm8OYzlpNsUskXPzhKd2fFrgRl_CaGlLMixNSUcrx2uvu7xziXDSmYfCLNQXG-kN8Jhc0sGF_91cmFqw1-knhm-nDCB-1H6otqQwD9J94D0'},\n",
       "  {'label': 'globaltaiwan',\n",
       "   'short_url': 'https://vertexaisearch.cloud.google.com/id/0-4',\n",
       "   'value': 'https://vertexaisearch.cloud.google.com/grounding-api-redirect/AUZIYQHV489qN1XbIcOjuqc6qOV1cWZQZGcIuAiKMmPerG6bj79iYQHiP-l9oUns1_QKQ7jkvRAPnEKSt9L6A09-8Zw2XrSHU9aOyZ_mqrYPJZSGnuOAbF56SuXzBb4KwwVAcW79wCPCow_B4LbuLAkF'},\n",
       "  {'label': 'aljazeera',\n",
       "   'short_url': 'https://vertexaisearch.cloud.google.com/id/0-5',\n",
       "   'value': 'https://vertexaisearch.cloud.google.com/grounding-api-redirect/AUZIYQGO7erl5G1xB9dUuxc6DjAvtobvcaUxsqA1A2Bmb673xa_Mb6zRJ041dqDyhc-jLVpNSc0n130yCPAeiq1fBh3T7ybXzj-5odiyFQh9xVzkNnDx9UarXyVNT3l6tSBwGmBlO0RkKp8g3Eh6fVKq_63w75Zy-mwwHnjOjKlFH87t6c_Ro1od4KgkhwCzopu12TTQFGfwwpBC_HJ2h1Me-hAlnf-Gc-Jm'},\n",
       "  {'label': 'globaltaiwan',\n",
       "   'short_url': 'https://vertexaisearch.cloud.google.com/id/0-4',\n",
       "   'value': 'https://vertexaisearch.cloud.google.com/grounding-api-redirect/AUZIYQHV489qN1XbIcOjuqc6qOV1cWZQZGcIuAiKMmPerG6bj79iYQHiP-l9oUns1_QKQ7jkvRAPnEKSt9L6A09-8Zw2XrSHU9aOyZ_mqrYPJZSGnuOAbF56SuXzBb4KwwVAcW79wCPCow_B4LbuLAkF'},\n",
       "  {'label': 'brookings',\n",
       "   'short_url': 'https://vertexaisearch.cloud.google.com/id/0-6',\n",
       "   'value': 'https://vertexaisearch.cloud.google.com/grounding-api-redirect/AUZIYQEsSrxF6RWROWlaY7427mmXFcp7TzoQ0K6-VoMyE4Dx2v6JMefF9nHGhCJ06abIMGu4m7KByFRvnYxQsXu6oDTylhr4ghMPyhl-5z9CnQNC-MT6wQMRtlCHigYfALTDSs06D1tMw9o2QMD3eTg0POVO6nlGH-Ylm_mnE7Rm8a2jS63cBlQFzs9eAZUb_Q6Ij1KV'},\n",
       "  {'label': 'wikipedia',\n",
       "   'short_url': 'https://vertexaisearch.cloud.google.com/id/0-7',\n",
       "   'value': 'https://vertexaisearch.cloud.google.com/grounding-api-redirect/AUZIYQFn4G_AsV3j0XIsqbvTV3FHofLzsykq8q7KIrXsTgub4hnAhFhOJIZnx_ul7KeTXK2LQj08Txxz5zZj9tym1xfxzvaMK2q-_wjU7dembvB3jLwVkz_UxMqzSRbZ0siMWEprTYEgLrCnFs9cwwm8k2mHVNZWaLkJoto='},\n",
       "  {'label': 'brookings',\n",
       "   'short_url': 'https://vertexaisearch.cloud.google.com/id/0-6',\n",
       "   'value': 'https://vertexaisearch.cloud.google.com/grounding-api-redirect/AUZIYQEsSrxF6RWROWlaY7427mmXFcp7TzoQ0K6-VoMyE4Dx2v6JMefF9nHGhCJ06abIMGu4m7KByFRvnYxQsXu6oDTylhr4ghMPyhl-5z9CnQNC-MT6wQMRtlCHigYfALTDSs06D1tMw9o2QMD3eTg0POVO6nlGH-Ylm_mnE7Rm8a2jS63cBlQFzs9eAZUb_Q6Ij1KV'},\n",
       "  {'label': 'aljazeera',\n",
       "   'short_url': 'https://vertexaisearch.cloud.google.com/id/0-5',\n",
       "   'value': 'https://vertexaisearch.cloud.google.com/grounding-api-redirect/AUZIYQGO7erl5G1xB9dUuxc6DjAvtobvcaUxsqA1A2Bmb673xa_Mb6zRJ041dqDyhc-jLVpNSc0n130yCPAeiq1fBh3T7ybXzj-5odiyFQh9xVzkNnDx9UarXyVNT3l6tSBwGmBlO0RkKp8g3Eh6fVKq_63w75Zy-mwwHnjOjKlFH87t6c_Ro1od4KgkhwCzopu12TTQFGfwwpBC_HJ2h1Me-hAlnf-Gc-Jm'},\n",
       "  {'label': 'globaltaiwan',\n",
       "   'short_url': 'https://vertexaisearch.cloud.google.com/id/0-8',\n",
       "   'value': 'https://vertexaisearch.cloud.google.com/grounding-api-redirect/AUZIYQGc54LYEVyBrivHnOHBx2w7XDG0_9JFLUA-2jW0ZzWPs47o68qWCl6LwuRsSlENxHN0Y4-OuJc3QZ4tfgvWTJiWqPf-aNHxMcqDcUaZBE5EieJxyNEEAJ-JUl6U-m4bEujyKsLqWcs_VRMWpk9S8aWCxY10yAC2a4NbtBWLMW5Sl_dgvqs='},\n",
       "  {'label': 'aljazeera',\n",
       "   'short_url': 'https://vertexaisearch.cloud.google.com/id/0-5',\n",
       "   'value': 'https://vertexaisearch.cloud.google.com/grounding-api-redirect/AUZIYQGO7erl5G1xB9dUuxc6DjAvtobvcaUxsqA1A2Bmb673xa_Mb6zRJ041dqDyhc-jLVpNSc0n130yCPAeiq1fBh3T7ybXzj-5odiyFQh9xVzkNnDx9UarXyVNT3l6tSBwGmBlO0RkKp8g3Eh6fVKq_63w75Zy-mwwHnjOjKlFH87t6c_Ro1od4KgkhwCzopu12TTQFGfwwpBC_HJ2h1Me-hAlnf-Gc-Jm'},\n",
       "  {'label': 'wikipedia',\n",
       "   'short_url': 'https://vertexaisearch.cloud.google.com/id/1-0',\n",
       "   'value': 'https://vertexaisearch.cloud.google.com/grounding-api-redirect/AUZIYQEZ6n7nV5Jl_ohtBH0tO30oPWTCgRgaBikkUOF9rNnbJh9M4GG5f4t2zlSOVfVf97kHuaxHFf68FO9_sAwFK_cTJ71XUugj0J8zMsV6wyjDim_BwjrAX0uTvbnMmOVny7ytZ3RSNQ=='},\n",
       "  {'label': 'taiwantoday',\n",
       "   'short_url': 'https://vertexaisearch.cloud.google.com/id/1-1',\n",
       "   'value': 'https://vertexaisearch.cloud.google.com/grounding-api-redirect/AUZIYQEYFwcpEdXNG5c3rk5v_v3_1bLbY6NWhfJmELtkg9cAuA8s_Dhxt8HeuG2YROFScJwbf19--AReIYwAKeB_sums87rSZBye5AqCkSisfTwFUi7SG087wjCtFbEyOB3vuFGXnbu72XgOOJC8Xt11HPZQFXFQs0DyTlE01enVfsyuF3ws_KSlWl8JywYIrgFJ5pIdOEJcmg984imReJDq6rTgtw=='},\n",
       "  {'label': 'wikipedia',\n",
       "   'short_url': 'https://vertexaisearch.cloud.google.com/id/1-2',\n",
       "   'value': 'https://vertexaisearch.cloud.google.com/grounding-api-redirect/AUZIYQEW71-ZcGgL4wjCUpN1-ugVnvwA7L_bYW3pLobmtYRrul0vXKWxrKai5AbZZStOc6MjP9FOHDsgst5efd_c603FXP9dV2nWwexqhwSLLgs_vzSRIEnKavMA-IkJDl8Fsw2MK-sPUj2gpDk01KAh--ct1m2hw00_X-_5PmbpSQ=='},\n",
       "  {'label': 'roc-taiwan',\n",
       "   'short_url': 'https://vertexaisearch.cloud.google.com/id/1-3',\n",
       "   'value': 'https://vertexaisearch.cloud.google.com/grounding-api-redirect/AUZIYQEKbh0N_K4ayUPWxnUvbMLzG3YAuehg_K6px45JfqxQwo9qCkK6vQETNOc2iO1MnMiCixeCf9HGhOPQtVZc7dDYGoaiC6PAFCYdoxrxPlQpMPd8SCNBrH8cq1yfdmHTKFYPzkdnfZKUTJvD'},\n",
       "  {'label': 'wikipedia',\n",
       "   'short_url': 'https://vertexaisearch.cloud.google.com/id/1-0',\n",
       "   'value': 'https://vertexaisearch.cloud.google.com/grounding-api-redirect/AUZIYQEZ6n7nV5Jl_ohtBH0tO30oPWTCgRgaBikkUOF9rNnbJh9M4GG5f4t2zlSOVfVf97kHuaxHFf68FO9_sAwFK_cTJ71XUugj0J8zMsV6wyjDim_BwjrAX0uTvbnMmOVny7ytZ3RSNQ=='},\n",
       "  {'label': 'roc-taiwan',\n",
       "   'short_url': 'https://vertexaisearch.cloud.google.com/id/1-3',\n",
       "   'value': 'https://vertexaisearch.cloud.google.com/grounding-api-redirect/AUZIYQEKbh0N_K4ayUPWxnUvbMLzG3YAuehg_K6px45JfqxQwo9qCkK6vQETNOc2iO1MnMiCixeCf9HGhOPQtVZc7dDYGoaiC6PAFCYdoxrxPlQpMPd8SCNBrH8cq1yfdmHTKFYPzkdnfZKUTJvD'},\n",
       "  {'label': 'wikipedia',\n",
       "   'short_url': 'https://vertexaisearch.cloud.google.com/id/1-0',\n",
       "   'value': 'https://vertexaisearch.cloud.google.com/grounding-api-redirect/AUZIYQEZ6n7nV5Jl_ohtBH0tO30oPWTCgRgaBikkUOF9rNnbJh9M4GG5f4t2zlSOVfVf97kHuaxHFf68FO9_sAwFK_cTJ71XUugj0J8zMsV6wyjDim_BwjrAX0uTvbnMmOVny7ytZ3RSNQ=='},\n",
       "  {'label': 'wikipedia',\n",
       "   'short_url': 'https://vertexaisearch.cloud.google.com/id/1-2',\n",
       "   'value': 'https://vertexaisearch.cloud.google.com/grounding-api-redirect/AUZIYQEW71-ZcGgL4wjCUpN1-ugVnvwA7L_bYW3pLobmtYRrul0vXKWxrKai5AbZZStOc6MjP9FOHDsgst5efd_c603FXP9dV2nWwexqhwSLLgs_vzSRIEnKavMA-IkJDl8Fsw2MK-sPUj2gpDk01KAh--ct1m2hw00_X-_5PmbpSQ=='},\n",
       "  {'label': 'wikipedia',\n",
       "   'short_url': 'https://vertexaisearch.cloud.google.com/id/1-0',\n",
       "   'value': 'https://vertexaisearch.cloud.google.com/grounding-api-redirect/AUZIYQEZ6n7nV5Jl_ohtBH0tO30oPWTCgRgaBikkUOF9rNnbJh9M4GG5f4t2zlSOVfVf97kHuaxHFf68FO9_sAwFK_cTJ71XUugj0J8zMsV6wyjDim_BwjrAX0uTvbnMmOVny7ytZ3RSNQ=='},\n",
       "  {'label': 'wikipedia',\n",
       "   'short_url': 'https://vertexaisearch.cloud.google.com/id/1-2',\n",
       "   'value': 'https://vertexaisearch.cloud.google.com/grounding-api-redirect/AUZIYQEW71-ZcGgL4wjCUpN1-ugVnvwA7L_bYW3pLobmtYRrul0vXKWxrKai5AbZZStOc6MjP9FOHDsgst5efd_c603FXP9dV2nWwexqhwSLLgs_vzSRIEnKavMA-IkJDl8Fsw2MK-sPUj2gpDk01KAh--ct1m2hw00_X-_5PmbpSQ=='},\n",
       "  {'label': 'wikipedia',\n",
       "   'short_url': 'https://vertexaisearch.cloud.google.com/id/1-2',\n",
       "   'value': 'https://vertexaisearch.cloud.google.com/grounding-api-redirect/AUZIYQEW71-ZcGgL4wjCUpN1-ugVnvwA7L_bYW3pLobmtYRrul0vXKWxrKai5AbZZStOc6MjP9FOHDsgst5efd_c603FXP9dV2nWwexqhwSLLgs_vzSRIEnKavMA-IkJDl8Fsw2MK-sPUj2gpDk01KAh--ct1m2hw00_X-_5PmbpSQ=='},\n",
       "  {'label': 'wikipedia',\n",
       "   'short_url': 'https://vertexaisearch.cloud.google.com/id/1-0',\n",
       "   'value': 'https://vertexaisearch.cloud.google.com/grounding-api-redirect/AUZIYQEZ6n7nV5Jl_ohtBH0tO30oPWTCgRgaBikkUOF9rNnbJh9M4GG5f4t2zlSOVfVf97kHuaxHFf68FO9_sAwFK_cTJ71XUugj0J8zMsV6wyjDim_BwjrAX0uTvbnMmOVny7ytZ3RSNQ=='},\n",
       "  {'label': 'thehindu',\n",
       "   'short_url': 'https://vertexaisearch.cloud.google.com/id/1-4',\n",
       "   'value': 'https://vertexaisearch.cloud.google.com/grounding-api-redirect/AUZIYQESeUiWL-6v-rXL-T7GDjHs8poGi2LYT2y0XRskL4emOtFvlUH9bQoxTM1CqbQlXuGXBIzCGhv7hl2lfq5uFjmmFxu9RYrtmXX3WBw8mbjdYhIWA3ZBtBuloLsXBCArtI-9Hc8cT533ZbcAvDwvIlPwVFgV2jkXZkqvaM54Siriq0Rz1hlVRvkzrRdwVwgmSGAFas31Xw87vyZJRkltaW1XLH5aLi-Sq_OtFztXWCnj'},\n",
       "  {'label': 'youtube',\n",
       "   'short_url': 'https://vertexaisearch.cloud.google.com/id/1-5',\n",
       "   'value': 'https://vertexaisearch.cloud.google.com/grounding-api-redirect/AUZIYQGe9MbPbccK_jynGAtkUN7LlMfoUY2llWzNjSgFHfYDTftDNFjEtfdd7rxJg6DbV8FX9zD9BLgh6SCNYbxZR0xvYKBLLMQUnFHbxwHmzPmZHpe06P_1aVoDU81Oqos1h9-lgEuH27s='},\n",
       "  {'label': 'brookings',\n",
       "   'short_url': 'https://vertexaisearch.cloud.google.com/id/1-6',\n",
       "   'value': 'https://vertexaisearch.cloud.google.com/grounding-api-redirect/AUZIYQETCVnFHkr5xFx3I7Rg82f_aPLSI_Gvmx9OS8iIce7OAQWTMuWLaJxRSSh4zkPwB6AVj5gAfZm16vX0Ohmqzm-koam7e8cRQQ_5PUhjYyjF6fnRoiPfBKrkNIt5YMoY8_PhFWPHckc3ZFQY4HuZqpAacX4NpeBR81IMs8sa1keWsPQNVydVkgUYPna8uDVa_2sC'},\n",
       "  {'label': 'wikipedia',\n",
       "   'short_url': 'https://vertexaisearch.cloud.google.com/id/0-0',\n",
       "   'value': 'https://vertexaisearch.cloud.google.com/grounding-api-redirect/AUZIYQGp7E_CQ2-K1XFqTyRevHlcncFgkXvWue7zwOcU3Gzqs1Ek6BXbqWfGPgtTTK_RTI7gSEjW4ltNKEyR60ynooA2DUgG4pPCX_8xNbf1Zv2vIdRmtIWmlV0_of3gU1qHb1zImkM0i7_2lCPXLAwF_DnlNJidQxsECYzs9qx9Yg=='},\n",
       "  {'label': 'roc-taiwan',\n",
       "   'short_url': 'https://vertexaisearch.cloud.google.com/id/0-1',\n",
       "   'value': 'https://vertexaisearch.cloud.google.com/grounding-api-redirect/AUZIYQGSj63sUBHl8Ng1j_-sWkh91P5RDuOOTDPb0pm8OYzlpNsUskXPzhKd2fFrgRl_CaGlLMixNSUcrx2uvu7xziXDSmYfCLNQXG-kN8Jhc0sGF_91cmFqw1-knhm-nDCB-1H6otqQwD9J94D0'},\n",
       "  {'label': 'theguardian',\n",
       "   'short_url': 'https://vertexaisearch.cloud.google.com/id/0-3',\n",
       "   'value': 'https://vertexaisearch.cloud.google.com/grounding-api-redirect/AUZIYQGu0yM7QnEtIHWiImF72ugg6nb97BUf9yivvvppfPVFkhhkG_gzJ2bjoG-gHmOaQZPgwBDqSH1PKFdI12GL0bwTXzjnqKMJJYmXotjb-rXM-vWYeQXJWBZvDR67Gzns4Ahjo2DzIDPU99R4g1gXtOr80onEBjDtzI4nLZNHvu1-MbtE1X-Yhtx2BiENAk3bcw6NA7nuUWxOX2jzLR-s9VJLuEMY8sE='},\n",
       "  {'label': 'globaltaiwan',\n",
       "   'short_url': 'https://vertexaisearch.cloud.google.com/id/0-4',\n",
       "   'value': 'https://vertexaisearch.cloud.google.com/grounding-api-redirect/AUZIYQHV489qN1XbIcOjuqc6qOV1cWZQZGcIuAiKMmPerG6bj79iYQHiP-l9oUns1_QKQ7jkvRAPnEKSt9L6A09-8Zw2XrSHU9aOyZ_mqrYPJZSGnuOAbF56SuXzBb4KwwVAcW79wCPCow_B4LbuLAkF'},\n",
       "  {'label': 'aljazeera',\n",
       "   'short_url': 'https://vertexaisearch.cloud.google.com/id/0-5',\n",
       "   'value': 'https://vertexaisearch.cloud.google.com/grounding-api-redirect/AUZIYQGO7erl5G1xB9dUuxc6DjAvtobvcaUxsqA1A2Bmb673xa_Mb6zRJ041dqDyhc-jLVpNSc0n130yCPAeiq1fBh3T7ybXzj-5odiyFQh9xVzkNnDx9UarXyVNT3l6tSBwGmBlO0RkKp8g3Eh6fVKq_63w75Zy-mwwHnjOjKlFH87t6c_Ro1od4KgkhwCzopu12TTQFGfwwpBC_HJ2h1Me-hAlnf-Gc-Jm'},\n",
       "  {'label': 'brookings',\n",
       "   'short_url': 'https://vertexaisearch.cloud.google.com/id/0-6',\n",
       "   'value': 'https://vertexaisearch.cloud.google.com/grounding-api-redirect/AUZIYQEsSrxF6RWROWlaY7427mmXFcp7TzoQ0K6-VoMyE4Dx2v6JMefF9nHGhCJ06abIMGu4m7KByFRvnYxQsXu6oDTylhr4ghMPyhl-5z9CnQNC-MT6wQMRtlCHigYfALTDSs06D1tMw9o2QMD3eTg0POVO6nlGH-Ylm_mnE7Rm8a2jS63cBlQFzs9eAZUb_Q6Ij1KV'},\n",
       "  {'label': 'wikipedia',\n",
       "   'short_url': 'https://vertexaisearch.cloud.google.com/id/0-7',\n",
       "   'value': 'https://vertexaisearch.cloud.google.com/grounding-api-redirect/AUZIYQFn4G_AsV3j0XIsqbvTV3FHofLzsykq8q7KIrXsTgub4hnAhFhOJIZnx_ul7KeTXK2LQj08Txxz5zZj9tym1xfxzvaMK2q-_wjU7dembvB3jLwVkz_UxMqzSRbZ0siMWEprTYEgLrCnFs9cwwm8k2mHVNZWaLkJoto='},\n",
       "  {'label': 'wikipedia',\n",
       "   'short_url': 'https://vertexaisearch.cloud.google.com/id/1-0',\n",
       "   'value': 'https://vertexaisearch.cloud.google.com/grounding-api-redirect/AUZIYQEZ6n7nV5Jl_ohtBH0tO30oPWTCgRgaBikkUOF9rNnbJh9M4GG5f4t2zlSOVfVf97kHuaxHFf68FO9_sAwFK_cTJ71XUugj0J8zMsV6wyjDim_BwjrAX0uTvbnMmOVny7ytZ3RSNQ=='},\n",
       "  {'label': 'taiwantoday',\n",
       "   'short_url': 'https://vertexaisearch.cloud.google.com/id/1-1',\n",
       "   'value': 'https://vertexaisearch.cloud.google.com/grounding-api-redirect/AUZIYQEYFwcpEdXNG5c3rk5v_v3_1bLbY6NWhfJmELtkg9cAuA8s_Dhxt8HeuG2YROFScJwbf19--AReIYwAKeB_sums87rSZBye5AqCkSisfTwFUi7SG087wjCtFbEyOB3vuFGXnbu72XgOOJC8Xt11HPZQFXFQs0DyTlE01enVfsyuF3ws_KSlWl8JywYIrgFJ5pIdOEJcmg984imReJDq6rTgtw=='}],\n",
       " 'initial_search_query_count': 3,\n",
       " 'max_research_loops': 3,\n",
       " 'research_loop_count': 1}"
      ]
     },
     "execution_count": 19,
     "metadata": {},
     "output_type": "execute_result"
    }
   ],
   "source": [
    "state"
   ]
  },
  {
   "cell_type": "code",
   "execution_count": 20,
   "metadata": {},
   "outputs": [
    {
     "data": {
      "text/markdown": [
       "截至2025年8月18日，中華民國（台灣）的總統是賴清德（Lai Ching-te）[wikipedia](https://vertexaisearch.cloud.google.com/grounding-api-redirect/AUZIYQEZ6n7nV5Jl_ohtBH0tO30oPWTCgRgaBikkUOF9rNnbJh9M4GG5f4t2zlSOVfVf97kHuaxHFf68FO9_sAwFK_cTJ71XUugj0J8zMsV6wyjDim_BwjrAX0uTvbnMmOVny7ytZ3RSNQ==) [taiwantoday](https://vertexaisearch.cloud.google.com/grounding-api-redirect/AUZIYQEYFwcpEdXNG5c3rk5v_v3_1bLbY6NWhfJmELtkg9cAuA8s_Dhxt8HeuG2YROFScJwbf19--AReIYwAKeB_sums87rSZBye5AqCkSisfTwFUi7SG087wjCtFbEyOB3vuFGXnbu72XgOOJC8Xt11HPZQFXFQs0DyTlE01enVfsyuF3ws_KSlWl8JywYIrgFJ5pIdOEJcmg984imReJDq6rTgtw==)。\n",
       "\n",
       "賴清德隸屬民主進步黨（DPP），他於2024年1月13日的總統選舉中勝出，並在同年5月20日與副總統蕭美琴（Hsiao Bi-khim）一同宣誓就職 [roc-taiwan](https://vertexaisearch.cloud.google.com/grounding-api-redirect/AUZIYQGSj63sUBHl8Ng1j_-sWkh91P5RDuOOTDPb0pm8OYzlpNsUskXPzhKd2fFrgRl_CaGlLMixNSUcrx2uvu7xziXDSmYfCLNQXG-kN8Jhc0sGF_91cmFqw1-knhm-nDCB-1H6otqQwD9J94D0) [theguardian](https://vertexaisearch.cloud.google.com/grounding-api-redirect/AUZIYQGu0yM7QnEtIHWiImF72ugg6nb97BUf9yivvvppfPVFkhhkG_gzJ2bjoG-gHmOaQZPgwBDqSH1PKFdI12GL0bwTXzjnqKMJJYmXotjb-rXM-vWYeQXJWBZvDR67Gzns4Ahjo2DzIDPU99R4g1gXtOr80onEBjDtzI4nLZNHvu1-MbtE1X-Yhtx2BiENAk3bcw6NA7nuUWxOX2jzLR-s9VJLuEMY8sE=) [wikipedia](https://vertexaisearch.cloud.google.com/grounding-api-redirect/AUZIYQGp7E_CQ2-K1XFqTyRevHlcncFgkXvWue7zwOcU3Gzqs1Ek6BXbqWfGPgtTTK_RTI7gSEjW4ltNKEyR60ynooA2DUgG4pPCX_8xNbf1Zv2vIdRmtIWmlV0_of3gU1qHb1zImkM0i7_2lCPXLAwF_DnlNJidQxsECYzs9qx9Yg==)。\n",
       "\n",
       "**2024年總統選舉結果摘要：**\n",
       "*   **賴清德（民主進步黨）：** 獲得559萬張選票，得票率為40.05% [roc-taiwan](https://vertexaisearch.cloud.google.com/grounding-api-redirect/AUZIYQGSj63sUBHl8Ng1j_-sWkh91P5RDuOOTDPb0pm8OYzlpNsUskXPzhKd2fFrgRl_CaGlLMixNSUcrx2uvu7xziXDSmYfCLNQXG-kN8Jhc0sGF_91cmFqw1-knhm-nDCB-1H6otqQwD9J94D0)。\n",
       "*   **侯友宜（中國國民黨）：** 得票率為33.49% [globaltaiwan](https://vertexaisearch.cloud.google.com/grounding-api-redirect/AUZIYQHV489qN1XbIcOjuqc6qOV1cWZQZGcIuAiKMmPerG6bj79iYQHiP-l9oUns1_QKQ7jkvRAPnEKSt9L6A09-8Zw2XrSHU9aOyZ_mqrYPJZSGnuOAbF56SuXzBb4KwwVAcW79wCPCow_B4LbuLAkF) [roc-taiwan](https://vertexaisearch.cloud.google.com/grounding-api-redirect/AUZIYQGSj63sUBHl8Ng1j_-sWkh91P5RDuOOTDPb0pm8OYzlpNsUskXPzhKd2fFrgRl_CaGlLMixNSUcrx2uvu7xziXDSmYfCLNQXG-kN8Jhc0sGF_91cmFqw1-knhm-nDCB-1H6otqQwD9J94D0)。\n",
       "*   **柯文哲（台灣民眾黨）：** 得票率為26.46% [globaltaiwan](https://vertexaisearch.cloud.google.com/grounding-api-redirect/AUZIYQHV489qN1XbIcOjuqc6qOV1cWZQZGcIuAiKMmPerG6bj79iYQHiP-l9oUns1_QKQ7jkvRAPnEKSt9L6A09-8Zw2XrSHU9aOyZ_mqrYPJZSGnuOAbF56SuXzBb4KwwVAcW79wCPCow_B4LbuLAkF) [roc-taiwan](https://vertexaisearch.cloud.google.com/grounding-api-redirect/AUZIYQGSj63sUBHl8Ng1j_-sWkh91P5RDuOOTDPb0pm8OYzlpNsUskXPzhKd2fFrgRl_CaGlLMixNSUcrx2uvu7xziXDSmYfCLNQXG-kN8Jhc0sGF_91cmFqw1-knhm-nDCB-1H6otqQwD9J94D0)。\n",
       "\n",
       "雖然賴清德贏得總統大位，但民進黨在立法院並未取得過半席次，在113席中僅佔51席，而國民黨則有52席 [globaltaiwan](https://vertexaisearch.cloud.google.com/grounding-api-redirect/AUZIYQHV489qN1XbIcOjuqc6qOV1cWZQZGcIuAiKMmPerG6bj79iYQHiP-l9oUns1_QKQ7jkvRAPnEKSt9L6A09-8Zw2XrSHU9aOyZ_mqrYPJZSGnuOAbF56SuXzBb4KwwVAcW79wCPCow_B4LbuLAkF) [brookings](https://vertexaisearch.cloud.google.com/grounding-api-redirect/AUZIYQEsSrxF6RWROWlaY7427mmXFcp7TzoQ0K6-VoMyE4Dx2v6JMefF9nHGhCJ06abIMGu4m7KByFRvnYxQsXu6oDTylhr4ghMPyhl-5z9CnQNC-MT6wQMRtlCHigYfALTDSs06D1tMw9o2QMD3eTg0POVO6nlGH-Ylm_mnE7Rm8a2jS63cBlQFzs9eAZUb_Q6Ij1KV) [wikipedia](https://vertexaisearch.cloud.google.com/grounding-api-redirect/AUZIYQFn4G_AsV3j0XIsqbvTV3FHofLzsykq8q7KIrXsTgub4hnAhFhOJIZnx_ul7KeTXK2LQj08Txxz5zZj9tym1xfxzvaMK2q-_wjU7dembvB3jLwVkz_UxMqzSRbZ0siMWEprTYEgLrCnFs9cwwm8k2mHVNZWaLkJoto=)。這形成了一個分裂的政府，為其施政帶來挑戰 [brookings](https://vertexaisearch.cloud.google.com/grounding-api-redirect/AUZIYQEsSrxF6RWROWlaY7427mmXFcp7TzoQ0K6-VoMyE4Dx2v6JMefF9nHGhCJ06abIMGu4m7KByFRvnYxQsXu6oDTylhr4ghMPyhl-5z9CnQNC-MT6wQMRtlCHigYfALTDSs06D1tMw9o2QMD3eTg0POVO6nlGH-Ylm_mnE7Rm8a2jS63cBlQFzs9eAZUb_Q6Ij1KV) [aljazeera](https://vertexaisearch.cloud.google.com/grounding-api-redirect/AUZIYQGO7erl5G1xB9dUuxc6DjAvtobvcaUxsqA1A2Bmb673xa_Mb6zRJ041dqDyhc-jLVpNSc0n130yCPAeiq1fBh3T7ybXzj-5odiyFQh9xVzkNnDx9UarXyVNT3l6tSBwGmBlO0RkKp8g3Eh6fVKq_63w75Zy-mwwHnjOjKlFH87t6c_Ro1od4KgkhwCzopu12TTQFGfwwpBC_HJ2h1Me-hAlnf-Gc-Jm)。"
      ],
      "text/plain": [
       "<IPython.core.display.Markdown object>"
      ]
     },
     "execution_count": 20,
     "metadata": {},
     "output_type": "execute_result"
    }
   ],
   "source": [
    "from IPython.display import Markdown\n",
    "\n",
    "Markdown(state[\"messages\"][-1].content)"
   ]
  },
  {
   "cell_type": "code",
   "execution_count": 23,
   "metadata": {},
   "outputs": [],
   "source": [
    "state = graph.invoke({\"messages\": state[\"messages\"] + [{\"role\": \"user\", \"content\": \"How has the most titles? List the top 5\"}]})"
   ]
  },
  {
   "cell_type": "code",
   "execution_count": 24,
   "metadata": {},
   "outputs": [
    {
     "data": {
      "text/markdown": [],
      "text/plain": [
       "<IPython.core.display.Markdown object>"
      ]
     },
     "execution_count": 24,
     "metadata": {},
     "output_type": "execute_result"
    }
   ],
   "source": [
    "Markdown(state[\"messages\"][-1].content)"
   ]
  },
  {
   "cell_type": "code",
   "execution_count": null,
   "metadata": {},
   "outputs": [],
   "source": []
  }
 ],
 "metadata": {
  "kernelspec": {
   "display_name": ".venv",
   "language": "python",
   "name": "python3"
  },
  "language_info": {
   "codemirror_mode": {
    "name": "ipython",
    "version": 3
   },
   "file_extension": ".py",
   "mimetype": "text/x-python",
   "name": "python",
   "nbconvert_exporter": "python",
   "pygments_lexer": "ipython3",
   "version": "3.11.12"
  }
 },
 "nbformat": 4,
 "nbformat_minor": 2
}
